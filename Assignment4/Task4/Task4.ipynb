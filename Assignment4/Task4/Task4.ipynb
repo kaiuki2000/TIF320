{
 "cells": [
  {
   "attachments": {},
   "cell_type": "markdown",
   "metadata": {},
   "source": [
    "### Task 4"
   ]
  },
  {
   "cell_type": "code",
   "execution_count": 1,
   "metadata": {},
   "outputs": [],
   "source": [
    "from ase.build import molecule\n",
    "from gpaw import GPAW, PW\n",
    "\n",
    "a = 12\n",
    "h = 0.2\n",
    "ecut = 450\n",
    "\n",
    "energies = {}\n",
    "with open(f'results-{h:.2f}.txt', 'w') as resultfile:\n",
    "\n",
    "    for name in ['O2', 'CO']: # O2 is spin polarized; CO is not. I think. Ask Chat-GPT. Unpaired electrons in molecular orbitals?\n",
    "        system = molecule(name)\n",
    "        system.set_cell((a, a, a))\n",
    "        system.center()\n",
    "    \n",
    "        calc = GPAW(h = h, mode = PW(ecut), xc = 'PBE', txt = f'T4_{name}.txt')\n",
    "        if(name == 'O2'): calc.set(hund=True)\n",
    "    \n",
    "        system.calc = calc\n",
    "    \n",
    "        energy = system.get_potential_energy()\n",
    "        energies[name] = energy\n",
    "        print(name, energy, file=resultfile)"
   ]
  }
 ],
 "metadata": {
  "kernelspec": {
   "display_name": "TIF_320_venv",
   "language": "python",
   "name": "python3"
  },
  "language_info": {
   "codemirror_mode": {
    "name": "ipython",
    "version": 3
   },
   "file_extension": ".py",
   "mimetype": "text/x-python",
   "name": "python",
   "nbconvert_exporter": "python",
   "pygments_lexer": "ipython3",
   "version": "3.8.10"
  },
  "orig_nbformat": 4,
  "vscode": {
   "interpreter": {
    "hash": "eb1652fc418267c4fb24a47a0a30707a85030aff06f463fd871499f24c674031"
   }
  }
 },
 "nbformat": 4,
 "nbformat_minor": 2
}
