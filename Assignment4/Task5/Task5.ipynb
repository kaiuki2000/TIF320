{
 "cells": [
  {
   "attachments": {},
   "cell_type": "markdown",
   "metadata": {},
   "source": [
    "### Task 5:"
   ]
  },
  {
   "cell_type": "code",
   "execution_count": 1,
   "metadata": {},
   "outputs": [],
   "source": [
    "from ase.build import molecule\n",
    "from gpaw import GPAW, PW\n",
    "from ase.vibrations import Vibrations\n",
    "from ase.thermochemistry import IdealGasThermo\n",
    "\n",
    "from ase import Atoms"
   ]
  },
  {
   "cell_type": "code",
   "execution_count": 1,
   "metadata": {},
   "outputs": [
    {
     "data": {
      "text/plain": [
       "array([ 2,  6, 12])"
      ]
     },
     "execution_count": 1,
     "metadata": {},
     "output_type": "execute_result"
    }
   ],
   "source": [
    "import numpy as np\n",
    "a = np.array([1,2,3])\n",
    "b = np.array([2,3,4])\n",
    "a*b"
   ]
  },
  {
   "cell_type": "code",
   "execution_count": null,
   "metadata": {},
   "outputs": [],
   "source": [
    "# Definitions:\n",
    "a = 12\n",
    "h = 0.2\n",
    "ecut = 450\n",
    "\n",
    "molecule = molecule('O2')\n",
    "molecule.set_cell((a, a, a))\n",
    "molecule.center()\n",
    "calc = GPAW(h = h, mode = PW(ecut), xc = 'PBE', txt = f'T5_O2.txt', symmetry = {'point_group': False})\n",
    "calc.set(hund=True)\n",
    "molecule.calc = calc\n",
    "    \n",
    "# Set up vibration calculations using previously optimized molecule\n",
    "vib = Vibrations(molecule, name = 'vib_O2')\n",
    "vib.run()\n",
    "print(vib.summary())\n",
    "vib_energies = vib.get_energies()\n",
    "\n",
    "# Save vibration modes to review if imaginary frequency present\n",
    "for mode in range(3*len(molecule.numbers)):\n",
    "  vib.write_mode(mode)\n",
    "\n",
    "potentialenergy = molecule.get_potential_energy()\n",
    "\n",
    "# Perform ideal gas calculations assuming ideal gas\n",
    "thermo = IdealGasThermo(vib_energies = vib_energies,\n",
    "                        potentialenergy = potentialenergy,\n",
    "                        atoms=molecule,\n",
    "                        geometry='linear',       # adjust this\n",
    "                        symmetrynumber=2,        # adjust this\n",
    "                        spin=1                   # adjust this\n",
    "                        )\n",
    "# Symmetry number of CO?\n",
    "# Calculate respective corrections at temperature and pressure specified\n",
    "G = thermo.get_entropy(temperature=300, pressure=100_000)"
   ]
  },
  {
   "cell_type": "code",
   "execution_count": 42,
   "metadata": {},
   "outputs": [
    {
     "name": "stdout",
     "output_type": "stream",
     "text": [
      "3*len(molecule_CO.numbers) = 6.\n"
     ]
    }
   ],
   "source": [
    "# What/why is this?\n",
    "molecule_CO = molecule('CO')\n",
    "print(f'3*len(molecule_CO.numbers) = {3*len(molecule_CO.numbers)}.') # I think it's just the number of degrees of freedom. 3 * 2 = 6, here."
   ]
  },
  {
   "cell_type": "code",
   "execution_count": 4,
   "metadata": {},
   "outputs": [
    {
     "name": "stdout",
     "output_type": "stream",
     "text": [
      "[Au]: 2.716526e-20 mol/s.\n",
      "[Pt]: 1.7190782000000002e-12 mol/s.\n",
      "[Rh]: 5.7436099999999995e-15 mol/s.\n"
     ]
    }
   ],
   "source": [
    "# Before the correction with the spin, in the calculation of the entropy. There was a mistake, before.\n",
    "print(f'[Au]: {(135.8263e-20)*(0.0200)} mol/s.') # Gold\n",
    "print(f'[Pt]: {(122.7913e-20)*(1.4e6) } mol/s.') # Platinum\n",
    "print(f'[Rh]: {(114.8722e-20)*(5000)  } mol/s.') # Rhodium"
   ]
  },
  {
   "cell_type": "code",
   "execution_count": 1,
   "metadata": {},
   "outputs": [
    {
     "name": "stdout",
     "output_type": "stream",
     "text": [
      "[Au]: 1.7934241115908336e-24 mol/s.\n",
      "[Pt]: 8.967120557954168e-17 mol/s.\n",
      "[Rh]: 5.230820325473265e-19 mol/s.\n"
     ]
    }
   ],
   "source": [
    "# After the correction with the spin, in the calculation of the entropy. There was a mistake, before.\n",
    "# Also, need to multiply by the conversion factor: #Sites/Area. We say that #Sites = #(Atoms in the Surface)\n",
    "Conv_f_Au = (9*2)/135.8263e-20/6.022e23\n",
    "Conv_f_Pt = (9*2)/122.7913e-20/6.022e23\n",
    "Conv_f_Rh = (9*2)/114.8722e-20/6.022e23\n",
    "\n",
    "print(f'[Au]: {(135.8263e-20)*(0.060)*Conv_f_Au} mol/s.') # Gold\n",
    "print(f'[Pt]: {(122.7913e-20)*(3.0e6)*Conv_f_Pt} mol/s.') # Platinum\n",
    "print(f'[Rh]: {(114.8722e-20)*(17500)*Conv_f_Rh} mol/s.') # Rhodium"
   ]
  },
  {
   "cell_type": "code",
   "execution_count": 3,
   "metadata": {},
   "outputs": [
    {
     "name": "stdout",
     "output_type": "stream",
     "text": [
      "[Au]: 1.7657419000000003e-24 mol/s.\n",
      "[Pt]: 9.823304e-17 mol/s.\n",
      "[Rh]: 4.594888e-19 mol/s.\n"
     ]
    }
   ],
   "source": [
    "# These are the correct values! Most recent ones!\n",
    "print(f'[Au]: {(135.8263e-20)*(1.3e-6)} mol/s.') # Gold\n",
    "print(f'[Pt]: {(122.7913e-20)*(80)} mol/s.') # Platinum\n",
    "print(f'[Rh]: {(114.8722e-20)*(0.4)} mol/s.') # Rhodium"
   ]
  },
  {
   "cell_type": "code",
   "execution_count": 2,
   "metadata": {},
   "outputs": [
    {
     "name": "stdout",
     "output_type": "stream",
     "text": [
      "AuO.xyz\n"
     ]
    }
   ],
   "source": [
    "a = 'Au'\n",
    "b = 'O'\n",
    "print(f'{a}{b}.xyz')"
   ]
  },
  {
   "cell_type": "code",
   "execution_count": null,
   "metadata": {},
   "outputs": [],
   "source": []
  }
 ],
 "metadata": {
  "kernelspec": {
   "display_name": "TIF_320_venv",
   "language": "python",
   "name": "python3"
  },
  "language_info": {
   "codemirror_mode": {
    "name": "ipython",
    "version": 3
   },
   "file_extension": ".py",
   "mimetype": "text/x-python",
   "name": "python",
   "nbconvert_exporter": "python",
   "pygments_lexer": "ipython3",
   "version": "3.8.10"
  },
  "orig_nbformat": 4,
  "vscode": {
   "interpreter": {
    "hash": "eb1652fc418267c4fb24a47a0a30707a85030aff06f463fd871499f24c674031"
   }
  }
 },
 "nbformat": 4,
 "nbformat_minor": 2
}
