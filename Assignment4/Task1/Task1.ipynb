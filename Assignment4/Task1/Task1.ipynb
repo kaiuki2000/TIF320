{
 "cells": [
  {
   "attachments": {},
   "cell_type": "markdown",
   "metadata": {},
   "source": [
    "## Assignment 4: "
   ]
  },
  {
   "cell_type": "code",
   "execution_count": 5,
   "metadata": {},
   "outputs": [],
   "source": [
    "import numpy as np\n",
    "\n",
    "from ase import Atoms\n",
    "from ase.io.trajectory import Trajectory\n",
    "from gpaw import GPAW, PW\n",
    "from ase.io import read"
   ]
  },
  {
   "attachments": {},
   "cell_type": "markdown",
   "metadata": {},
   "source": [
    "### Task 1/2:"
   ]
  },
  {
   "attachments": {},
   "cell_type": "markdown",
   "metadata": {},
   "source": [
    "- Gold/Platinum/Rhodium - FCC lattice:"
   ]
  },
  {
   "cell_type": "code",
   "execution_count": null,
   "metadata": {},
   "outputs": [],
   "source": [
    "a = 4.0   # Approximate lattice constant\n",
    "b = a / 2 # FCC lattice\n",
    "\n",
    "for Elem in ['Au', 'Pt', 'Rh']:\n",
    "    calc = GPAW(xc   = 'PBE', \n",
    "            mode = PW(450),\n",
    "            kpts = [12, 12, 12],\n",
    "            txt  = f'T1_{Elem}.txt')\n",
    "            \n",
    "    Elem_Atoms = Atoms(f'{Elem}',\n",
    "               cell = [(0, b, b), (b, 0, b), (b, b, 0)], # FCC lattice\n",
    "               pbc  = 1, # Periodicity in all directions. I think that's what this means. Check latter.\n",
    "               calculator = calc)\n",
    "    cell = Elem_Atoms.get_cell()\n",
    "    traj = Trajectory('T1_Au.traj', 'w')\n",
    "#     print(Elem_Atoms.get_volume()) # Debugging.\n",
    "#     print(Elem_Atoms.get_cell())   # Debugging.\n",
    "    for x in np.linspace(0.80, 1.20, 40):\n",
    "        Elem_Atoms.set_cell(cell * x, scale_atoms=True)\n",
    "        Elem_Atoms.get_potential_energy()\n",
    "        traj.write(Elem_Atoms)"
   ]
  },
  {
   "cell_type": "code",
   "execution_count": 2,
   "metadata": {},
   "outputs": [
    {
     "data": {
      "text/plain": [
       "[4.151753263156935, 3.965876389260916, 3.8417374949624827]"
      ]
     },
     "execution_count": 2,
     "metadata": {},
     "output_type": "execute_result"
    }
   ],
   "source": [
    "# These are the correct values...\n",
    "vols = [17.891, 15.594, 14.175]\n",
    "[(4*vol)**(1/3) for vol in vols]"
   ]
  },
  {
   "cell_type": "code",
   "execution_count": 12,
   "metadata": {},
   "outputs": [
    {
     "name": "stdout",
     "output_type": "stream",
     "text": [
      "Cohesion energies = [2.987, 5.749, 6.1].\n"
     ]
    }
   ],
   "source": [
    "# These are the correct values...\n",
    "energies   = [-3.145, -6.453, -7.318]\n",
    "Tot_En     = [-0.158, -0.704, -1.218]\n",
    "Diff       = [-(energies[i] - Tot_En[i]) for i in range(3)]; formatted_Diff = [float(f'{item:.3f}') for item in Diff]\n",
    "print(f'Cohesion energies = {formatted_Diff}.')"
   ]
  },
  {
   "cell_type": "code",
   "execution_count": 29,
   "metadata": {},
   "outputs": [
    {
     "name": "stdout",
     "output_type": "stream",
     "text": [
      "Task 2: Reading results from Task 1...\n",
      "[Au] Vol. = 18.31921 [\\AA^3]; Lattice constant: a = 4.18462 [\\AA] Exp. value_a = 4.0782 [\\AA].\n",
      "[Au] Energy = -3.14578 [eV]; Cohesive energy = -0.15800 - (-3.14578) = 2.99 [eV]. Exp. value_E = 3.81 [eV].\n",
      "\n",
      "[Pt] Vol. = 15.75511 [\\AA^3]; Lattice constant: a = 3.97949 [\\AA] Exp. value_a = 3.9242 [\\AA].\n",
      "[Pt] Energy = -6.43337 [eV]; Cohesive energy = -0.70400 - (-6.43337) = 5.73 [eV]. Exp. value_E = 5.84 [eV].\n",
      "\n",
      "[Rh] Vol. = 14.33804 [\\AA^3]; Lattice constant: a = 3.85641 [\\AA] Exp. value_a = 3.8034 [\\AA].\n",
      "[Rh] Energy = -7.30502 [eV]; Cohesive energy = -1.21800 - (-7.30502) = 6.09 [eV]. Exp. value_E = 5.75 [eV].\n",
      "\n"
     ]
    }
   ],
   "source": [
    "# Not these...\n",
    "# Determining minima:\n",
    "print('Task 2: Reading results from Task 1...')\n",
    "# Total energies, from Task 2:\n",
    "Tot_En     = [-0.158, -0.704, -1.218]\n",
    "Elements   = ['Au', 'Pt', 'Rh']\n",
    "Exp_Vals   = [3.81, 5.84, 5.75]       # Taken from: https://www.knowledgedoor.com/2/elements_handbook/cohesive_energy.html\n",
    "Exp_Vals_a = [4.0782, 3.9242, 3.8034] # Taken from: https://periodictable.com/Properties/A/LatticeConstants.html \n",
    "for Tot_E, Elem, Exp, Exp_a in zip(Tot_En, Elements, Exp_Vals, Exp_Vals_a):\n",
    "    configs   = read(f'T1_{Elem}.traj@0:40')  # Read all 40 configurations.\n",
    "    volumes   = [Conf.get_volume() for Conf in configs]\n",
    "    # energies  = [Conf.get_potential_energy() for Conf in configs]\n",
    "    print(f'[{Elem}] Vol. = {volumes[np.argmin(energies)]:.5f} [\\AA^3]; Lattice constant: a = {(4*volumes[np.argmin(energies)])**(1/3):.5f} [\\AA] Exp. value_a = {Exp_a:.4f} [\\AA].')\n",
    "    print(f'[{Elem}] Energy = {min(energies):.5f} [eV]; Cohesive energy = {Tot_E:.5f} - ({min(energies):.5f}) = {Tot_E - min(energies):.2f} [eV]. Exp. value_E = {Exp:.2f} [eV].\\n')"
   ]
  },
  {
   "cell_type": "code",
   "execution_count": 17,
   "metadata": {},
   "outputs": [],
   "source": [
    "# This one doesn't seem to be working...\n",
    "from ase.build import bulk\n",
    "from gpaw import GPAW, PW\n",
    "import numpy as np\n",
    "\n",
    "gold_atoms = bulk('Au', 'fcc', a = 4, cubic = True) # This function could be useful later on. Maybe...\n",
    "calc = GPAW(xc   = 'PBE',                           # Cubic = True? I don't think this should be here!\n",
    "            mode = PW(450),\n",
    "            kpts = [12, 12, 12],\n",
    "            txt  = 'gpaw.bulk.Au.txt')\n",
    "gold_atoms.calc  = calc\n",
    "gold_atoms.get_potential_energy()\n",
    "calc.write('bulk.Au.gpw')\n",
    "gold_atoms.cell # Check cell."
   ]
  },
  {
   "attachments": {},
   "cell_type": "markdown",
   "metadata": {},
   "source": [
    "## Tsting for Task 3:"
   ]
  },
  {
   "cell_type": "code",
   "execution_count": 15,
   "metadata": {},
   "outputs": [],
   "source": [
    "from ase.build import fcc111\n",
    "import numpy as np"
   ]
  },
  {
   "cell_type": "code",
   "execution_count": 16,
   "metadata": {},
   "outputs": [
    {
     "name": "stdout",
     "output_type": "stream",
     "text": [
      "124.70765814495917\n"
     ]
    },
    {
     "data": {
      "text/plain": [
       "Cell([[8.485281374238571, 0.0, 0.0], [4.242640687119286, 7.348469228349534, 0.0], [0.0, 0.0, 16.618802153517006]])"
      ]
     },
     "execution_count": 16,
     "metadata": {},
     "output_type": "execute_result"
    }
   ],
   "source": [
    "slab = fcc111(f'Au', size = (3, 3, 3), a = 4, vacuum = 6.0)\n",
    "surface_area   = 2 * (slab.cell[0, 0] * slab.cell[1, 1])\n",
    "print(surface_area)\n",
    "slab.cell"
   ]
  },
  {
   "cell_type": "code",
   "execution_count": 17,
   "metadata": {},
   "outputs": [
    {
     "data": {
      "text/plain": [
       "8.000000000000002"
      ]
     },
     "execution_count": 17,
     "metadata": {},
     "output_type": "execute_result"
    }
   ],
   "source": [
    "c = slab.cell[0, 0]/3\n",
    "2*np.sqrt(2)*c"
   ]
  },
  {
   "cell_type": "code",
   "execution_count": 18,
   "metadata": {},
   "outputs": [
    {
     "data": {
      "text/plain": [
       "40.95648908796749"
      ]
     },
     "execution_count": 18,
     "metadata": {},
     "output_type": "execute_result"
    }
   ],
   "source": [
    "0.328420 * surface_area"
   ]
  },
  {
   "attachments": {},
   "cell_type": "markdown",
   "metadata": {},
   "source": [
    "Should the surface energy really be half the cohesive energy, under these conditions? Maybe ask teacher..."
   ]
  }
 ],
 "metadata": {
  "kernelspec": {
   "display_name": "TIF_320_venv",
   "language": "python",
   "name": "python3"
  },
  "language_info": {
   "codemirror_mode": {
    "name": "ipython",
    "version": 3
   },
   "file_extension": ".py",
   "mimetype": "text/x-python",
   "name": "python",
   "nbconvert_exporter": "python",
   "pygments_lexer": "ipython3",
   "version": "3.8.10"
  },
  "orig_nbformat": 4,
  "vscode": {
   "interpreter": {
    "hash": "eb1652fc418267c4fb24a47a0a30707a85030aff06f463fd871499f24c674031"
   }
  }
 },
 "nbformat": 4,
 "nbformat_minor": 2
}
