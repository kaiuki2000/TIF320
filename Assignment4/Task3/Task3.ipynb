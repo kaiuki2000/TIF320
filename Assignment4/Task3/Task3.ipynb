{
 "cells": [
  {
   "cell_type": "code",
   "execution_count": 2,
   "metadata": {},
   "outputs": [],
   "source": [
    "from gpaw import GPAW, PW, Davidson, FermiDirac\n",
    "from gpaw import restart\n",
    "from gpaw.mpi import size, rank\n",
    "from ase.build import fcc111\n",
    "from ase.build import bulk\n",
    "from ase.io import Trajectory\n",
    "from ase.optimize import BFGS\n",
    "import os"
   ]
  },
  {
   "cell_type": "code",
   "execution_count": null,
   "metadata": {},
   "outputs": [],
   "source": [
    "# Set up the bulk copper crystal structure\n",
    "a = 4.18462\n",
    "atoms = bulk('Au', 'fcc', a = a)\n",
    "\n",
    "# Set up the surface slab\n",
    "slab = fcc111('Au', size = (3, 3, 3), a = a, vacuum = 6.0)\n",
    "\n",
    "# Set up the calculator\n",
    "ecut = 450.0  # eV\n",
    "kpts = (4, 4, 1)\n",
    "calc = GPAW(mode = PW(ecut), xc = 'PBE', kpts = kpts, txt = f'T3_Au.txt')\n",
    "\n",
    "# Relax the surface\n",
    "slab.set_calculator(calc)\n",
    "dyn = BFGS(slab, trajectory='relax.traj')\n",
    "dyn.run(fmax = 0.05)\n",
    "\n",
    "# Calculate the surface energy\n",
    "energy_bulk = atoms.get_potential_energy() / len(atoms)\n",
    "energy_slab = slab.get_potential_energy()\n",
    "natoms_slab = len(slab)\n",
    "natoms_bulk = len(atoms)\n",
    "surface_area = 2 * (slab.cell[0, 0] * slab.cell[1, 1])\n",
    "surface_energy = (energy_slab - natoms_slab / natoms_bulk * energy_bulk) / surface_area\n",
    "\n",
    "print(\"Surface energy: %f J/m^2\" % surface_energy)\n"
   ]
  },
  {
   "cell_type": "code",
   "execution_count": 7,
   "metadata": {},
   "outputs": [],
   "source": [
    "from ase.visualize import view"
   ]
  },
  {
   "cell_type": "code",
   "execution_count": 16,
   "metadata": {},
   "outputs": [
    {
     "name": "stdout",
     "output_type": "stream",
     "text": [
      "1 27\n",
      "136.4850848002617\n",
      "8.876919536066552 7.687637825584005\n",
      "Cell([[8.876919536066552, 0.0, 0.0], [4.438459768033276, 7.687637825584005, 0.0], [0.0, 0.0, 16.831982966912584]])\n"
     ]
    }
   ],
   "source": [
    "a = 4.18462\n",
    "atoms = bulk('Au', 'fcc', a = a)\n",
    "natoms_bulk = len(atoms)\n",
    "slab = fcc111('Au', size = (3, 3, 3), a = a, vacuum = 6.0)\n",
    "natoms_slab = len(slab)\n",
    "\n",
    "print(natoms_bulk, natoms_slab)\n",
    "view(slab)\n",
    "print(2 * (slab.cell[0, 0] * slab.cell[1, 1])) # This seems about right.\n",
    "print(slab.cell[0, 0], slab.cell[1, 1])\n",
    "print(slab.cell)"
   ]
  },
  {
   "cell_type": "code",
   "execution_count": null,
   "metadata": {},
   "outputs": [],
   "source": [
    "from ase.db import connect\n",
    "from ase.build import fcc111\n",
    "from ase.optimize import BFGS\n",
    "from gpaw import GPAW, PW\n",
    "\n",
    "db1 = connect('bulk.db')\n",
    "db2 = connect('ads.db')\n",
    "\n",
    "def run(symb, a, row):\n",
    "    slab = fcc111(symb, (3, 3, 3), a=a, vacuum = 6)\n",
    "    # Calculator:\n",
    "    calc = GPAW(xc   = 'PBE', \n",
    "                mode = PW(450),\n",
    "                kpts = [4, 4, 1],\n",
    "                txt  = f'refs.txt')\n",
    "    slab.set_calculator(calc)\n",
    "    # Relaxation:\n",
    "    dyn = BFGS(slab)\n",
    "    dyn.run(fmax = 0.1)\n",
    "\n",
    "    # Calculate the surface energy\n",
    "    natoms_slab    = len(slab)\n",
    "    surface_area   = 2 * (slab.cell[0, 0] * slab.cell[1, 1])\n",
    "\n",
    "    energy_slab    = slab.get_potential_energy() # Should also print this energy. Energy of the surface != Surface energy!\n",
    "    energy_bulk    = row.energy # For 1 atom.\n",
    "\n",
    "    surface_energy = (energy_slab - natoms_slab * energy_bulk) / surface_area\n",
    "    surface_energy_tot = (energy_slab - natoms_slab * energy_bulk) \n",
    "    print(\"Surface energy: %f eV/\\AA^2\" % surface_energy) \n",
    "    print(\"Total surface energy: %f eV\" % surface_energy_tot)\n",
    "\n",
    "    return atoms\n",
    "\n",
    "# Clean slabs:\n",
    "for row in db1.select():\n",
    "    a = row.a\n",
    "    symb = row.symbols[0]\n",
    "    id = db2.reserve(surf=symb, ads='clean')\n",
    "    if id is not None:\n",
    "        atoms = run(symb, a, row)\n",
    "        db2.write(atoms, id=id, surf=symb, ads='clean')"
   ]
  },
  {
   "cell_type": "code",
   "execution_count": 24,
   "metadata": {},
   "outputs": [
    {
     "name": "stdout",
     "output_type": "stream",
     "text": [
      "1.3421853179047378\n",
      "2.0\n",
      "1.253492201203878\n",
      "2.0\n",
      "1.3097094490914412\n",
      "2.0\n"
     ]
    }
   ],
   "source": [
    "from ase.db import connect\n",
    "# Tghis works fine...\n",
    "db1 = connect('../Task6/ads.db')\n",
    "for row in db1.select():\n",
    "    a = row.height; print(a)"
   ]
  }
 ],
 "metadata": {
  "kernelspec": {
   "display_name": "TIF_320_venv",
   "language": "python",
   "name": "python3"
  },
  "language_info": {
   "codemirror_mode": {
    "name": "ipython",
    "version": 3
   },
   "file_extension": ".py",
   "mimetype": "text/x-python",
   "name": "python",
   "nbconvert_exporter": "python",
   "pygments_lexer": "ipython3",
   "version": "3.8.10"
  },
  "orig_nbformat": 4,
  "vscode": {
   "interpreter": {
    "hash": "eb1652fc418267c4fb24a47a0a30707a85030aff06f463fd871499f24c674031"
   }
  }
 },
 "nbformat": 4,
 "nbformat_minor": 2
}
