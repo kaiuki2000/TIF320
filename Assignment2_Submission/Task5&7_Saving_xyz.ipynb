{
 "cells": [
  {
   "cell_type": "code",
   "execution_count": 1,
   "metadata": {},
   "outputs": [
    {
     "name": "stdout",
     "output_type": "stream",
     "text": [
      "[Na6] Minimum (relaxed) energy: (structure 'id' =  28; Energy = -4.93390 eV). Saving to 'Na6.xyz'...\n",
      "[Na7] Minimum (relaxed) energy: (structure 'id' = 201; Energy = -5.87367 eV). Saving to 'Na7.xyz'...\n",
      "[Na8] Minimum (relaxed) energy: (structure 'id' =  32; Energy = -7.28093 eV). Saving to 'Na8.xyz'...\n"
     ]
    }
   ],
   "source": [
    "# Script to write the lowest energy (relaxed) structure to '.xyz' file.\n",
    "from ase.db import connect\n",
    "from ase.visualize import view\n",
    "from ase.io import write, read\n",
    "import numpy as np\n",
    "\n",
    "for j in [6, 7, 8]:\n",
    "    db = connect(f'/home/afonso/Desktop/Chalmers/TIF_320/Task1/Task1_Na{j}_Vera/gadb.db') # Change this accordingly. I ran it locally on my machine.\n",
    "\n",
    "    # This helps me select the row which corresponds to the lowest energy. It also only selects relaxed structures.\n",
    "    # For some reason there was a 'LennardJones' (calculator type) structure that had even lower energy, but wasn't relaxed. Why?\n",
    "    # To see this, run: ase db ../Task1/Task1_Na6_Vera/gadb.db -c++ -L 0 -s=energy\n",
    "\n",
    "    E_Vec = []\n",
    "    for row in db.select(relaxed=True): E_Vec.append((row.energy, row.id))\n",
    "    id = E_Vec[np.argmin([Tup[0] for Tup in E_Vec])][1]\n",
    "    print(f'[Na{j}] Minimum (relaxed) energy: (structure \\'id\\' = {id:3.0f}; Energy = {E_Vec[np.argmin([Tup[0] for Tup in E_Vec])][0]:.5f} eV). Saving to \\'Na{j}.xyz\\'...')\n",
    "    atoms = db.get(f'id={id}').toatoms ()\n",
    "\n",
    "    # Debugging:\n",
    "    # view(atoms) # Uncomment to see the structures, with ase gui.\n",
    "\n",
    "    # Wrtie to '.xyz' file:\n",
    "    write(f'Na{j}.xyz', atoms)"
   ]
  },
  {
   "cell_type": "code",
   "execution_count": 103,
   "metadata": {},
   "outputs": [
    {
     "data": {
      "text/plain": [
       "<subprocess.Popen at 0x7f7048ce2e80>"
      ]
     },
     "execution_count": 103,
     "metadata": {},
     "output_type": "execute_result"
    }
   ],
   "source": [
    "db = connect(f'/home/afonso/Desktop/Chalmers/TIF_320/Task1/Task1_Na6_Vera/gadb.db')\n",
    "atoms_LJ = db.get(f'id=21').toatoms ()\n",
    "view(atoms_LJ)"
   ]
  },
  {
   "cell_type": "code",
   "execution_count": 24,
   "metadata": {},
   "outputs": [
    {
     "name": "stdout",
     "output_type": "stream",
     "text": [
      "[Na6] Minimum (relaxed) energy: (structure 'id' =  28; Energy = -4.93390 eV).\n",
      "[Na6] 2nd minimum (relaxed) energy: (structure 'id' =  62; Energy = -4.89003 eV). E_Diff = 0.04387 eV; Saving to 'Na6_2nd_Lowest_E.xyz'...\n",
      "\n",
      "[Na7] Minimum (relaxed) energy: (structure 'id' = 201; Energy = -5.87367 eV).\n",
      "[Na7] 2nd minimum (relaxed) energy: (structure 'id' =  39; Energy = -5.72897 eV). E_Diff = 0.14470 eV; Saving to 'Na7_2nd_Lowest_E.xyz'...\n",
      "\n",
      "[Na8] Minimum (relaxed) energy: (structure 'id' =  32; Energy = -7.28093 eV).\n",
      "[Na8] 2nd minimum (relaxed) energy: (structure 'id' =  93; Energy = -7.24201 eV). E_Diff = 0.03892 eV; Saving to 'Na8_2nd_Lowest_E.xyz'...\n",
      "\n"
     ]
    }
   ],
   "source": [
    "# Script to write the second lowest energy (relaxed) structure to '.xyz' file.\n",
    "from ase.db import connect\n",
    "from ase.visualize import view\n",
    "from ase.io import write, read\n",
    "import numpy as np\n",
    "\n",
    "for j in [6, 7, 8]:\n",
    "    db = connect(f'/home/afonso/Desktop/Chalmers/TIF_320/Task1/Task1_Na{j}_Vera/gadb.db') # Change this accordingly. I ran it locally on my machine.\n",
    "\n",
    "    # This helps me select the row which corresponds to the lowest energy. It also only selects relaxed structures.\n",
    "    # For some reason there was a 'LennardJones' (calculator type) structure that had even lower energy, but wasn't relaxed. Why?\n",
    "    # To see this, run: ase db ../Task1/Task1_Na6_Vera/gadb.db -c++ -L 0 -s=energy\n",
    "\n",
    "    E_Vec = []\n",
    "    for row in db.select(relaxed=True): E_Vec.append((row.energy, row.id))\n",
    "    E_Vec_Sorted = sorted(E_Vec, key=lambda Tup: Tup[0])\n",
    "    id = E_Vec[np.argmin([Tup[0] for Tup in E_Vec])][1]\n",
    "    E_Min = E_Vec[np.argmin([Tup[0] for Tup in E_Vec])][0]\n",
    "    print(f'[Na{j}] Minimum (relaxed) energy: (structure \\'id\\' = {id:3.0f}; Energy = {E_Min:.5f} eV).')\n",
    "    \n",
    "    E_Min_2nd = 0\n",
    "    for k in E_Vec_Sorted:\n",
    "        if(abs(k[0] - E_Min) > 0.01):\n",
    "            id_2nd_Structure = k[1]; E_Min_2nd = k[0]; break\n",
    "    E_Diff = abs(E_Min - E_Min_2nd)\n",
    "    print(f'[Na{j}] 2nd minimum (relaxed) energy: (structure \\'id\\' = {id_2nd_Structure:3.0f}; Energy = {E_Min_2nd:.5f} eV). E_Diff = {E_Diff:.5f} eV; Saving to \\'Na{j}_2nd_Lowest_E.xyz\\'...\\n')\n",
    "\n",
    "    atoms = db.get(f'id={id_2nd_Structure}').toatoms ()\n",
    "\n",
    "    # Debugging:\n",
    "    view(atoms) # Uncomment to see the structures, with ase gui.\n",
    "\n",
    "    # Wrtie to '.xyz' file:\n",
    "    write(f'Na{j}_2nd_Lowest_E.xyz', atoms)"
   ]
  },
  {
   "cell_type": "code",
   "execution_count": null,
   "metadata": {},
   "outputs": [],
   "source": []
  }
 ],
 "metadata": {
  "kernelspec": {
   "display_name": "TIF_320_venv",
   "language": "python",
   "name": "python3"
  },
  "language_info": {
   "codemirror_mode": {
    "name": "ipython",
    "version": 3
   },
   "file_extension": ".py",
   "mimetype": "text/x-python",
   "name": "python",
   "nbconvert_exporter": "python",
   "pygments_lexer": "ipython3",
   "version": "3.8.10 (default, Mar 15 2022, 12:22:08) \n[GCC 9.4.0]"
  },
  "orig_nbformat": 4,
  "vscode": {
   "interpreter": {
    "hash": "eb1652fc418267c4fb24a47a0a30707a85030aff06f463fd871499f24c674031"
   }
  }
 },
 "nbformat": 4,
 "nbformat_minor": 2
}
