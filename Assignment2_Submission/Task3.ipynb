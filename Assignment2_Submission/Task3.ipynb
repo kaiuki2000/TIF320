{
 "cells": [
  {
   "cell_type": "code",
   "execution_count": 2,
   "metadata": {},
   "outputs": [
    {
     "name": "stdout",
     "output_type": "stream",
     "text": [
      "Final potential energy = -4.1551131066483675 eV.\n"
     ]
    }
   ],
   "source": [
    "from ase import Atoms\n",
    "from ase.visualize import view\n",
    "from ase.calculators.emt import EMT\n",
    "from gpaw import GPAW, FermiDirac\n",
    "# from ase.optimize import QuasiNewton\n",
    "from ase.optimize import GPMin\n",
    "\n",
    "d = 2.5\n",
    "\n",
    "nanocluster = Atoms('Na6', positions=[(d, 0., 0.), (-d, 0., 0), (0., d, 0.), (0., -d, 0), (0., 0., d), (0., 0., -d)])       # Intuition.\n",
    "# nanocluster = Atoms('Na6', positions=[(d, 0., 0.), (0, 0., 0), (-d, 0, 0.), (-d/2, d/2, 0), (d/2, d/2, 0.), (0., d, 0.)]) # Testing in-plane (2D).\n",
    "# view(nanocluster) # For visualization.\n",
    "\n",
    "nanocluster.set_cell([16, 16, 16]) # 16 x 16 x 16 [Ångström] cell.\n",
    "nanocluster.center() # The cell must be centered in order to prevent atoms from lying too close to the boundary,\n",
    "                     # as the boundary conditions are zero by default.\n",
    "\n",
    "calc = GPAW(nbands=10,\n",
    "            h=0.25,\n",
    "            txt='out.txt',\n",
    "            xc = 'LDA', # 'LDA' is the default.\n",
    "            occupations=FermiDirac(0.05),\n",
    "            setups={'Na': '1'},\n",
    "            mode='lcao',\n",
    "            basis='dzp')\n",
    "nanocluster.calc = calc\n",
    "\n",
    "# The GPMin (Gaussian Process minimizer) produces a model for the Potential Energy Surface using the information about the potential energies\n",
    "# and the forces of the configurations it has already visited and uses it to speed up BFGS local minimzations.\n",
    "relax = GPMin(nanocluster, trajectory='relax.traj', logfile='relax.log') # Can also use 'BFGS', 'QuasiNewton', etc.\n",
    "relax.run(fmax=0.02, steps=100)\n",
    "\n",
    "E_Na6 = nanocluster.get_potential_energy()\n",
    "\n",
    "print(f'Final potential energy = {E_Na6} eV.')\n",
    "\n",
    "calc.write('Na6.gpw', mode = 'all')"
   ]
  }
 ],
 "metadata": {
  "kernelspec": {
   "display_name": "TIF_320_venv",
   "language": "python",
   "name": "python3"
  },
  "language_info": {
   "codemirror_mode": {
    "name": "ipython",
    "version": 3
   },
   "file_extension": ".py",
   "mimetype": "text/x-python",
   "name": "python",
   "nbconvert_exporter": "python",
   "pygments_lexer": "ipython3",
   "version": "3.8.10 (default, Mar 15 2022, 12:22:08) \n[GCC 9.4.0]"
  },
  "orig_nbformat": 4,
  "vscode": {
   "interpreter": {
    "hash": "eb1652fc418267c4fb24a47a0a30707a85030aff06f463fd871499f24c674031"
   }
  }
 },
 "nbformat": 4,
 "nbformat_minor": 2
}
