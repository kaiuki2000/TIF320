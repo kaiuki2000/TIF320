{
 "cells": [
  {
   "cell_type": "code",
   "execution_count": 9,
   "metadata": {},
   "outputs": [
    {
     "name": "stdout",
     "output_type": "stream",
     "text": [
      "Final potential energy = -4.933943387914553 eV.\n",
      "Final potential energy = -4.889933023795548 eV.\n"
     ]
    }
   ],
   "source": [
    "from ase import Atoms\n",
    "from ase.visualize import view\n",
    "from gpaw import GPAW, FermiDirac\n",
    "from ase.optimize import GPMin\n",
    "\n",
    "from ase.db import connect\n",
    "from ase.io import write, read\n",
    "\n",
    "import numpy as np\n",
    "import os as os\n",
    "\n",
    "for filename in ['Na6', 'Na6_2nd_Lowest_E']:\n",
    "\n",
    "    if not os.path.exists(filename):\n",
    "        os.makedirs(filename)\n",
    "\n",
    "    nanocluster = read(f'{filename}.xyz')\n",
    "    # view(nanocluster) # For visualization.\n",
    "\n",
    "    nanocluster.set_cell([16, 16, 16]) # 16 x 16 x 16 [Ångström] cell.\n",
    "    nanocluster.center() # The cell must be centered in order to prevent atoms from lying too close to the boundary,\n",
    "                         # as the boundary conditions are zero by default.\n",
    "\n",
    "    calc = GPAW(nbands=10,\n",
    "                h=0.25,\n",
    "                txt=f'{filename}/out.txt',\n",
    "                xc = 'LDA', # 'LDA' is the default.\n",
    "                occupations=FermiDirac(0.05),\n",
    "                setups={'Na': '1'},\n",
    "                mode='lcao',\n",
    "                basis='dzp')\n",
    "    nanocluster.calc = calc\n",
    "\n",
    "    # The GPMin (Gaussian Process minimizer) produces a model for the Potential Energy Surface using the information about the potential energies\n",
    "    # and the forces of the configurations it has already visited and uses it to speed up BFGS local minimzations.\n",
    "    relax = GPMin(nanocluster, trajectory=f'{filename}/relax.traj', logfile=f'{filename}/relax.log') # Can also use 'BFGS', 'QuasiNewton', etc.\n",
    "    relax.run(fmax=0.02, steps=100)\n",
    "\n",
    "    E_Na6 = nanocluster.get_potential_energy()\n",
    "\n",
    "    print(f'Final potential energy = {E_Na6} eV.')\n",
    "\n",
    "    calc.write(f'{filename}/{filename}.gpw', mode = 'all')"
   ]
  },
  {
   "cell_type": "code",
   "execution_count": 7,
   "metadata": {},
   "outputs": [
    {
     "data": {
      "text/plain": [
       "<subprocess.Popen at 0x7fb30078b5b0>"
      ]
     },
     "execution_count": 7,
     "metadata": {},
     "output_type": "execute_result"
    }
   ],
   "source": [
    "view(read('Na6_2nd_Lowest_E.xyz.gpw'))\n",
    "view(read('Na6.xyz.gpw'))"
   ]
  },
  {
   "cell_type": "code",
   "execution_count": null,
   "metadata": {},
   "outputs": [],
   "source": []
  }
 ],
 "metadata": {
  "kernelspec": {
   "display_name": "TIF_320_venv",
   "language": "python",
   "name": "python3"
  },
  "language_info": {
   "codemirror_mode": {
    "name": "ipython",
    "version": 3
   },
   "file_extension": ".py",
   "mimetype": "text/x-python",
   "name": "python",
   "nbconvert_exporter": "python",
   "pygments_lexer": "ipython3",
   "version": "3.8.10"
  },
  "orig_nbformat": 4,
  "vscode": {
   "interpreter": {
    "hash": "eb1652fc418267c4fb24a47a0a30707a85030aff06f463fd871499f24c674031"
   }
  }
 },
 "nbformat": 4,
 "nbformat_minor": 2
}
